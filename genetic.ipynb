{
 "cells": [
  {
   "cell_type": "code",
   "execution_count": 54,
   "metadata": {},
   "outputs": [],
   "source": [
    "import random\n",
    "import sys\n",
    "import math\n",
    "from scipy.stats import bernoulli\n",
    "import matplotlib.pyplot as plt\n",
    "import numpy as np\n",
    "mutation_probability = 0.01\n",
    "def fitness_function(x, y):\n",
    "    return - (x**2) + (2 * x) - (y ** 2) + (4 * y)"
   ]
  },
  {
   "cell_type": "code",
   "execution_count": 55,
   "metadata": {},
   "outputs": [],
   "source": [
    "def evaluate_generation(population):\n",
    "    scores = []\n",
    "    total = 0\n",
    "    for individual in population:\n",
    "        if len(individual) == 2:\n",
    "            r = fitness_function(individual[0], individual[1])\n",
    "            scores.append(r)\n",
    "            total += r\n",
    "        else:\n",
    "            print(\"error: Wrong number of arguments received\")\n",
    "    avg = total / len(scores)\n",
    "    return scores, avg"
   ]
  },
  {
   "cell_type": "code",
   "execution_count": 56,
   "metadata": {},
   "outputs": [],
   "source": [
    "def mutate(individual):\n",
    "    new = []\n",
    "    for attribute in individual:\n",
    "        new.append(attribute + random.normalvariate(0, attribute + .1))  # Random factor of normal distribution\n",
    "    return new"
   ]
  },
  {
   "cell_type": "code",
   "execution_count": 57,
   "metadata": {},
   "outputs": [],
   "source": [
    "def find_best(population):\n",
    "    best = None\n",
    "    val = None\n",
    "    for individual in population:\n",
    "        if len(individual) == 2:\n",
    "            r = fitness_function(individual[0], individual[1])\n",
    "            try:\n",
    "                if r > val:\n",
    "                    best = individual\n",
    "                    val = r\n",
    "            except:  # On the first run, set the result as best\n",
    "                best = individual\n",
    "                val = r\n",
    "        else:\n",
    "            print(\"error: Wrong number of arguments received\")\n",
    "    return best, val"
   ]
  },
  {
   "cell_type": "code",
   "execution_count": 58,
   "metadata": {},
   "outputs": [],
   "source": [
    "def initialize(n, p):\n",
    "    pop = [[0] * n]\n",
    "    for i in range(p):\n",
    "        pop.append(mutate(pop[0]))\n",
    "    return pop"
   ]
  },
  {
   "cell_type": "code",
   "execution_count": 59,
   "metadata": {},
   "outputs": [],
   "source": [
    "def termination(best, val, total_iterations, population_size, num_attributes):\n",
    "    best = [round(x, 3) for x in best]  #  Round for printing\n",
    "    print(\"Ran\", total_iterations, \"iterations on a population of\", population_size)\n",
    "    print(\"The optimal input is\", best, \"with a value of\", round(val, 3))\n",
    "    if num_attributes == 2:\n",
    "        print(\"The known maximum is at [1, 2] with a value of 5\")\n",
    "    else:\n",
    "        print(\"Error: Unsupported Individual Length\")"
   ]
  },
  {
   "cell_type": "code",
   "execution_count": 65,
   "metadata": {},
   "outputs": [
    {
     "name": "stdout",
     "output_type": "stream",
     "text": [
      "Ran 100 iterations on a population of 10000\n",
      "The optimal input is [1.044, 1.96] with a value of 4.996\n",
      "The known maximum is at [1, 2] with a value of 5\n"
     ]
    }
   ],
   "source": [
    "num_attributes = 2\n",
    "population_size = 10000\n",
    "total_iterations = 100\n",
    "population = initialize(num_attributes, population_size)\n",
    "for iteration in range(total_iterations):\n",
    "    X = bernoulli(mutation_probability)\n",
    "    trails = X.rvs(population_size+1)\n",
    "    scores, avg = evaluate_generation(population)\n",
    "    deleted = 0\n",
    "    count = 0\n",
    "    new_population = []\n",
    "    for i in range(len(population)):\n",
    "        if scores[i] < avg:\n",
    "            deleted += 1\n",
    "        else:\n",
    "            if (trails[count] == 1):\n",
    "                new_population.append(mutate(population[i]))\n",
    "            else:\n",
    "                new_population.append(population[i])\n",
    "            count = count + 1;\n",
    "    for i in range(deleted):\n",
    "        if (trails[count] == 1):\n",
    "            new_population.append(mutate(new_population[i % len(new_population)]))\n",
    "        else:\n",
    "            new_population.append(new_population[i % len(new_population)])\n",
    "        count = count + 1;\n",
    "    population = new_population\n",
    "    \n",
    "best, val = find_best(population)\n",
    "termination(best, val, total_iterations, population_size, num_attributes)"
   ]
  },
  {
   "cell_type": "code",
   "execution_count": 63,
   "metadata": {},
   "outputs": [
    {
     "name": "stdout",
     "output_type": "stream",
     "text": [
      "[0 0 0 0 0 0 0 0 0 0 0 0 0 0 0 0 0 0 0 0 0 0 0 0 0 0 0 0 0 0 0 0 0 0 0 0 0\n",
      " 0 0 0 0 0 0 0 0 0 0 0 0 0 0 0 0 0 0 0 0 0 0 0 0 0 0 0 0 0 0 0 0 0 0 0 0 0\n",
      " 0 0 0 0 0 0 0 0 0 0 0 0 0 0 0 0 0 0 0 0 0 0 0 0 0 0 0]\n"
     ]
    }
   ],
   "source": [
    "X = bernoulli(mutation_probability)\n",
    "trails = X.rvs(population_size+1)\n",
    "print(trails)"
   ]
  },
  {
   "cell_type": "code",
   "execution_count": null,
   "metadata": {},
   "outputs": [],
   "source": []
  }
 ],
 "metadata": {
  "kernelspec": {
   "display_name": "Python 3",
   "language": "python",
   "name": "python3"
  },
  "language_info": {
   "codemirror_mode": {
    "name": "ipython",
    "version": 3
   },
   "file_extension": ".py",
   "mimetype": "text/x-python",
   "name": "python",
   "nbconvert_exporter": "python",
   "pygments_lexer": "ipython3",
   "version": "3.7.4"
  }
 },
 "nbformat": 4,
 "nbformat_minor": 2
}
